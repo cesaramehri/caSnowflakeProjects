{
 "cells": [
  {
   "cell_type": "markdown",
   "id": "fb96dc5d-d28c-43dd-87ec-642b5fb8405f",
   "metadata": {
    "collapsed": false,
    "name": "Title_Cell",
    "resultHeight": 157
   },
   "source": [
    "Markdown is just text. **But** :red[you] *can* :green[also] make it :blue[fancy]!\n",
    "\n",
    "# Add Rows to Flower DEtail Table\n",
    "\n",
    "Edit the \"set\" cells to update the variables then click \"Run all\" in the top left-corner."
   ]
  },
  {
   "cell_type": "code",
   "execution_count": null,
   "id": "5ec2fca1-b79c-4235-aa98-d9de2a71d828",
   "metadata": {
    "collapsed": false,
    "language": "sql",
    "name": "set_root_depth_code",
    "resultHeight": 112
   },
   "outputs": [],
   "source": [
    "SET rdc = 'M';"
   ]
  },
  {
   "cell_type": "code",
   "execution_count": null,
   "id": "ded122e7-7c68-40b7-aa12-4033e9c4cd09",
   "metadata": {
    "collapsed": false,
    "language": "sql",
    "name": "set_flower_name",
    "resultHeight": 112
   },
   "outputs": [],
   "source": [
    "SET fn = 'Tulip';"
   ]
  },
  {
   "cell_type": "code",
   "execution_count": null,
   "id": "a8f8add5-8781-41d9-af60-6a3902b2fe80",
   "metadata": {
    "collapsed": false,
    "language": "sql",
    "name": "check_my_variables",
    "resultHeight": 112
   },
   "outputs": [],
   "source": [
    "select $fn, $rdc;"
   ]
  },
  {
   "cell_type": "code",
   "execution_count": null,
   "id": "ff518a37-750a-4917-a1d9-1c285a845c01",
   "metadata": {
    "collapsed": false,
    "language": "sql",
    "name": "insert_row",
    "resultHeight": 112
   },
   "outputs": [],
   "source": [
    "INSERT INTO GARDEN_PLANTS.FLOWERS.FLOWERS_DETAILS\n",
    "--SELECT $fn, $rdc;"
   ]
  },
  {
   "cell_type": "code",
   "execution_count": null,
   "id": "e94d42f6-92c8-4496-be4d-6dfa0e562414",
   "metadata": {
    "language": "sql",
    "name": "check_the_table",
    "resultHeight": 252
   },
   "outputs": [],
   "source": [
    "SELECT * \n",
    "FROM GARDEN_PLANTS.FLOWERS.FLOWERS_DETAILS;"
   ]
  }
 ],
 "metadata": {
  "kernelspec": {
   "display_name": "Streamlit Notebook",
   "name": "streamlit"
  }
 },
 "nbformat": 4,
 "nbformat_minor": 5
}
